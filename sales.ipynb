{
 "cells": [
  {
   "cell_type": "code",
   "execution_count": 28,
   "id": "56d9a836-e7e0-4604-8266-55cd63d9954c",
   "metadata": {},
   "outputs": [],
   "source": [
    "import pandas as pd\n",
    "import numpy as np\n",
    "import seaborn as sns\n",
    "import matplotlib.pyplot as plt\n",
    "import warnings\n",
    "warnings.filterwarnings('ignore')"
   ]
  },
  {
   "cell_type": "markdown",
   "id": "af587469",
   "metadata": {},
   "source": []
  },
  {
   "cell_type": "code",
   "execution_count": 29,
   "id": "ac729212-4f6b-4cea-824f-660ee1d5d149",
   "metadata": {},
   "outputs": [],
   "source": [
    "dataset=pd.read_excel(\"advertising_sales_data.xlsx\")"
   ]
  },
  {
   "cell_type": "code",
   "execution_count": 30,
   "id": "a4fb719a-7f55-4658-917a-689271d26b3a",
   "metadata": {},
   "outputs": [
    {
     "data": {
      "text/html": [
       "<div>\n",
       "<style scoped>\n",
       "    .dataframe tbody tr th:only-of-type {\n",
       "        vertical-align: middle;\n",
       "    }\n",
       "\n",
       "    .dataframe tbody tr th {\n",
       "        vertical-align: top;\n",
       "    }\n",
       "\n",
       "    .dataframe thead th {\n",
       "        text-align: right;\n",
       "    }\n",
       "</style>\n",
       "<table border=\"1\" class=\"dataframe\">\n",
       "  <thead>\n",
       "    <tr style=\"text-align: right;\">\n",
       "      <th></th>\n",
       "      <th>Campaign</th>\n",
       "      <th>TV</th>\n",
       "      <th>Radio</th>\n",
       "      <th>Newspaper</th>\n",
       "      <th>Sales</th>\n",
       "    </tr>\n",
       "  </thead>\n",
       "  <tbody>\n",
       "    <tr>\n",
       "      <th>0</th>\n",
       "      <td>camp1</td>\n",
       "      <td>230.1</td>\n",
       "      <td>37.8</td>\n",
       "      <td>69.2</td>\n",
       "      <td>22.1</td>\n",
       "    </tr>\n",
       "    <tr>\n",
       "      <th>1</th>\n",
       "      <td>camp2</td>\n",
       "      <td>44.5</td>\n",
       "      <td>39.3</td>\n",
       "      <td>45.1</td>\n",
       "      <td>10.4</td>\n",
       "    </tr>\n",
       "    <tr>\n",
       "      <th>2</th>\n",
       "      <td>camp3</td>\n",
       "      <td>17.2</td>\n",
       "      <td>45.9</td>\n",
       "      <td>69.3</td>\n",
       "      <td>12.0</td>\n",
       "    </tr>\n",
       "    <tr>\n",
       "      <th>3</th>\n",
       "      <td>camp4</td>\n",
       "      <td>151.5</td>\n",
       "      <td>41.3</td>\n",
       "      <td>58.5</td>\n",
       "      <td>16.5</td>\n",
       "    </tr>\n",
       "    <tr>\n",
       "      <th>4</th>\n",
       "      <td>camp5</td>\n",
       "      <td>180.8</td>\n",
       "      <td>10.8</td>\n",
       "      <td>58.4</td>\n",
       "      <td>17.9</td>\n",
       "    </tr>\n",
       "  </tbody>\n",
       "</table>\n",
       "</div>"
      ],
      "text/plain": [
       "  Campaign     TV  Radio  Newspaper  Sales\n",
       "0    camp1  230.1   37.8       69.2   22.1\n",
       "1    camp2   44.5   39.3       45.1   10.4\n",
       "2    camp3   17.2   45.9       69.3   12.0\n",
       "3    camp4  151.5   41.3       58.5   16.5\n",
       "4    camp5  180.8   10.8       58.4   17.9"
      ]
     },
     "execution_count": 30,
     "metadata": {},
     "output_type": "execute_result"
    }
   ],
   "source": [
    "dataset.head()"
   ]
  },
  {
   "cell_type": "code",
   "execution_count": 31,
   "id": "1f22b6c7-e2c4-4de6-a90e-6ff57c06ffc1",
   "metadata": {},
   "outputs": [],
   "source": [
    "df=dataset.drop(columns=\"Campaign\")"
   ]
  },
  {
   "cell_type": "code",
   "execution_count": 32,
   "id": "5593ef85-942d-4bcd-b825-71cc4a78d0f5",
   "metadata": {},
   "outputs": [
    {
     "data": {
      "text/html": [
       "<div>\n",
       "<style scoped>\n",
       "    .dataframe tbody tr th:only-of-type {\n",
       "        vertical-align: middle;\n",
       "    }\n",
       "\n",
       "    .dataframe tbody tr th {\n",
       "        vertical-align: top;\n",
       "    }\n",
       "\n",
       "    .dataframe thead th {\n",
       "        text-align: right;\n",
       "    }\n",
       "</style>\n",
       "<table border=\"1\" class=\"dataframe\">\n",
       "  <thead>\n",
       "    <tr style=\"text-align: right;\">\n",
       "      <th></th>\n",
       "      <th>TV</th>\n",
       "      <th>Radio</th>\n",
       "      <th>Newspaper</th>\n",
       "      <th>Sales</th>\n",
       "    </tr>\n",
       "  </thead>\n",
       "  <tbody>\n",
       "    <tr>\n",
       "      <th>0</th>\n",
       "      <td>230.1</td>\n",
       "      <td>37.8</td>\n",
       "      <td>69.2</td>\n",
       "      <td>22.1</td>\n",
       "    </tr>\n",
       "    <tr>\n",
       "      <th>1</th>\n",
       "      <td>44.5</td>\n",
       "      <td>39.3</td>\n",
       "      <td>45.1</td>\n",
       "      <td>10.4</td>\n",
       "    </tr>\n",
       "    <tr>\n",
       "      <th>2</th>\n",
       "      <td>17.2</td>\n",
       "      <td>45.9</td>\n",
       "      <td>69.3</td>\n",
       "      <td>12.0</td>\n",
       "    </tr>\n",
       "    <tr>\n",
       "      <th>3</th>\n",
       "      <td>151.5</td>\n",
       "      <td>41.3</td>\n",
       "      <td>58.5</td>\n",
       "      <td>16.5</td>\n",
       "    </tr>\n",
       "    <tr>\n",
       "      <th>4</th>\n",
       "      <td>180.8</td>\n",
       "      <td>10.8</td>\n",
       "      <td>58.4</td>\n",
       "      <td>17.9</td>\n",
       "    </tr>\n",
       "  </tbody>\n",
       "</table>\n",
       "</div>"
      ],
      "text/plain": [
       "      TV  Radio  Newspaper  Sales\n",
       "0  230.1   37.8       69.2   22.1\n",
       "1   44.5   39.3       45.1   10.4\n",
       "2   17.2   45.9       69.3   12.0\n",
       "3  151.5   41.3       58.5   16.5\n",
       "4  180.8   10.8       58.4   17.9"
      ]
     },
     "execution_count": 32,
     "metadata": {},
     "output_type": "execute_result"
    }
   ],
   "source": [
    "df.head()"
   ]
  },
  {
   "cell_type": "code",
   "execution_count": 33,
   "id": "58820a07-bf36-4143-98f0-1e4ca1bb5455",
   "metadata": {},
   "outputs": [
    {
     "data": {
      "text/plain": [
       "TV           0\n",
       "Radio        2\n",
       "Newspaper    0\n",
       "Sales        0\n",
       "dtype: int64"
      ]
     },
     "execution_count": 33,
     "metadata": {},
     "output_type": "execute_result"
    }
   ],
   "source": [
    "df.isnull().sum()"
   ]
  },
  {
   "cell_type": "code",
   "execution_count": 34,
   "id": "790856cb-f1f4-4b24-aef0-cb8b8d9fb4d5",
   "metadata": {},
   "outputs": [],
   "source": [
    "df['Radio'] = df['Radio'].fillna(df['Radio'].mean())"
   ]
  },
  {
   "cell_type": "code",
   "execution_count": 35,
   "id": "356e5fb0-d010-4d3c-8240-ce43268237f5",
   "metadata": {},
   "outputs": [
    {
     "data": {
      "text/plain": [
       "TV           0\n",
       "Radio        0\n",
       "Newspaper    0\n",
       "Sales        0\n",
       "dtype: int64"
      ]
     },
     "execution_count": 35,
     "metadata": {},
     "output_type": "execute_result"
    }
   ],
   "source": [
    "df.isnull().sum()"
   ]
  },
  {
   "cell_type": "markdown",
   "id": "18bd6636-111d-4aa7-a10e-73a26e4fa991",
   "metadata": {},
   "source": [
    "average spent on tv"
   ]
  },
  {
   "cell_type": "code",
   "execution_count": 36,
   "id": "e72383d0-65f2-4617-ae11-0faf3ef8911d",
   "metadata": {},
   "outputs": [
    {
     "data": {
      "text/plain": [
       "29408.499999999996"
      ]
     },
     "execution_count": 36,
     "metadata": {},
     "output_type": "execute_result"
    }
   ],
   "source": [
    "sum=0\n",
    "for i in df[\"TV\"]:\n",
    "    sum=sum+i\n",
    "sum    "
   ]
  },
  {
   "cell_type": "code",
   "execution_count": 37,
   "id": "05054cad-cf38-4f53-a447-d7543f830329",
   "metadata": {},
   "outputs": [
    {
     "data": {
      "text/plain": [
       "147.0425"
      ]
     },
     "execution_count": 37,
     "metadata": {},
     "output_type": "execute_result"
    }
   ],
   "source": [
    "avg=sum/200\n",
    "avg # std == avg"
   ]
  },
  {
   "cell_type": "markdown",
   "id": "b1e19c3e-5177-4b8a-b9d5-5748e60b58c6",
   "metadata": {},
   "source": [
    "correlation between radio advertising expenditure and product sales"
   ]
  },
  {
   "cell_type": "code",
   "execution_count": 38,
   "id": "d74e8d44-2628-4307-8fde-b0fce3248ef2",
   "metadata": {},
   "outputs": [
    {
     "data": {
      "text/plain": [
       "np.float64(0.3496507429302875)"
      ]
     },
     "execution_count": 38,
     "metadata": {},
     "output_type": "execute_result"
    }
   ],
   "source": [
    "correlation=df[\"Radio\"].corr(df[\"Sales\"])\n",
    "correlation"
   ]
  },
  {
   "cell_type": "markdown",
   "id": "d810d4c8-8672-4666-a317-0607e881f8fe",
   "metadata": {},
   "source": [
    "correlation between all the columns"
   ]
  },
  {
   "cell_type": "code",
   "execution_count": 39,
   "id": "1e04716b-e97e-4839-af88-7a54a8aca148",
   "metadata": {},
   "outputs": [
    {
     "data": {
      "text/plain": [
       "Sales        1.000000\n",
       "TV           0.901208\n",
       "Radio        0.349651\n",
       "Newspaper    0.157960\n",
       "dtype: float64"
      ]
     },
     "execution_count": 39,
     "metadata": {},
     "output_type": "execute_result"
    }
   ],
   "source": [
    "corr_values = df.corrwith(df['Sales']).abs().sort_values(ascending=False)\n",
    "corr_values "
   ]
  },
  {
   "cell_type": "markdown",
   "id": "c6e18aa7-2ed3-4910-8b39-ebc3de680f34",
   "metadata": {},
   "source": [
    "linear regression "
   ]
  },
  {
   "cell_type": "code",
   "execution_count": 40,
   "id": "62b5fb29-aec0-4f27-a677-09d6e789820e",
   "metadata": {},
   "outputs": [],
   "source": [
    "from sklearn.model_selection import train_test_split\n",
    "from sklearn.linear_model import LinearRegression\n",
    "lr= LinearRegression()"
   ]
  },
  {
   "cell_type": "code",
   "execution_count": 41,
   "id": "f359e54d-228e-4acf-af3f-6e83e01d8489",
   "metadata": {},
   "outputs": [],
   "source": [
    "x=df.iloc[:,:-1]\n",
    "y= df[\"Sales\"]\n"
   ]
  },
  {
   "cell_type": "code",
   "execution_count": 42,
   "id": "28d8df0e-dd31-46a2-a8f0-8ca0e90fb832",
   "metadata": {},
   "outputs": [
    {
     "data": {
      "text/plain": [
       "(0.8935683305189493, 0.9032035711424015)"
      ]
     },
     "execution_count": 42,
     "metadata": {},
     "output_type": "execute_result"
    }
   ],
   "source": [
    "x_train, x_test, y_train, y_test = train_test_split( x, y, test_size=0.33, random_state=42)\n",
    "lr.fit(x_train,y_train)\n",
    "lr.score(x_train,y_train),lr.score(x_test,y_test)"
   ]
  },
  {
   "cell_type": "markdown",
   "id": "877fed9b-996d-40ef-a6bb-a4622ec26b8e",
   "metadata": {},
   "source": [
    "plotting the graph"
   ]
  },
  {
   "cell_type": "code",
   "execution_count": 43,
   "id": "afe7a283-25b4-4ed7-ac5b-f2f546cb4f8c",
   "metadata": {
    "scrolled": true
   },
   "outputs": [
    {
     "data": {
      "image/png": "[encoded data removed]",
      "text/plain": [
       "<Figure size 640x480 with 1 Axes>"
      ]
     },
     "metadata": {},
     "output_type": "display_data"
    }
   ],
   "source": [
    "y_pred=lr.predict(x_test)\n",
    "\n",
    "plt.scatter(y_test, y_pred)\n",
    "plt.xlabel('Actual Sales')\n",
    "plt.ylabel('Predicted Sales')\n",
    "plt.plot([y.min(), y.max()], [y.min(), y.max()], 'k-')  # 45-degree line\n",
    "plt.show()"
   ]
  },
  {
   "cell_type": "markdown",
   "id": "a85ae765-251a-4dbe-bd40-1dc64dc12c36",
   "metadata": {},
   "source": [
    "predicting for 200,40,50"
   ]
  },
  {
   "cell_type": "code",
   "execution_count": 44,
   "id": "08a3c3be-b614-4231-b482-a4b887315e5f",
   "metadata": {},
   "outputs": [
    {
     "data": {
      "text/plain": [
       "array([19.96149968])"
      ]
     },
     "execution_count": 44,
     "metadata": {},
     "output_type": "execute_result"
    }
   ],
   "source": [
    "lr.predict([[200,40,50]])"
   ]
  },
  {
   "cell_type": "markdown",
   "id": "2b48fad8-a589-47f6-bef2-16ca5477503c",
   "metadata": {},
   "source": [
    "normalizing the dataset"
   ]
  },
  {
   "cell_type": "code",
   "execution_count": 45,
   "id": "5c3a14c5-3e0d-42f8-a295-156f5d5a533f",
   "metadata": {},
   "outputs": [],
   "source": [
    "from sklearn.preprocessing import MinMaxScaler\n",
    "scaler = MinMaxScaler()\n",
    "x_train=scaler.fit_transform(x_train)\n",
    "x_test=scaler.fit_transform(x_test)"
   ]
  },
  {
   "cell_type": "code",
   "execution_count": 46,
   "id": "00e3fb94-a744-4590-b23c-f98780644b06",
   "metadata": {},
   "outputs": [
    {
     "data": {
      "text/plain": [
       "(0.8935683305189493, 0.9074456831238731)"
      ]
     },
     "execution_count": 46,
     "metadata": {},
     "output_type": "execute_result"
    }
   ],
   "source": [
    "\n",
    "lr1 = LinearRegression()\n",
    "lr1.fit(x_train,y_train)\n",
    "lr1.score(x_train,y_train), lr1.score(x_test,y_test)"
   ]
  },
  {
   "cell_type": "code",
   "execution_count": 47,
   "id": "ead4a0b2-1e32-45f4-a456-a1743d6568d2",
   "metadata": {},
   "outputs": [
    {
     "data": {
      "image/png": "[encoded data removed]",
      "text/plain": [
       "<Figure size 500x300 with 1 Axes>"
      ]
     },
     "metadata": {},
     "output_type": "display_data"
    }
   ],
   "source": [
    "# creating bar plot to visualize changes after and before normalization\n",
    "before_train = 0.8935683305189493\n",
    "before_test =  0.9032035711424015\n",
    "after_train = 0.8935683305189493\n",
    "after_test = 0.9074456831238731\n",
    "\n",
    "# Create bar chart\n",
    "plt.figure(figsize=(5,3))\n",
    "plt.bar(['Before Train', 'Before Test', 'After Train', 'After Test'], [before_train, before_test, after_train, after_test])\n",
    "plt.xlabel('Dataset')\n",
    "plt.ylabel('R-squared')\n",
    "plt.title('Comparison of R-squared Values')\n",
    "plt.show()"
   ]
  },
  {
   "cell_type": "markdown",
   "id": "c211c8e3-600b-4fce-8d0f-a6eae85580b3",
   "metadata": {},
   "source": [
    "using only radio and newspaper"
   ]
  },
  {
   "cell_type": "code",
   "execution_count": 48,
   "id": "2c152bd9-55d0-4ea3-ade0-6fdb2b42af36",
   "metadata": {},
   "outputs": [
    {
     "data": {
      "text/html": [
       "<div>\n",
       "<style scoped>\n",
       "    .dataframe tbody tr th:only-of-type {\n",
       "        vertical-align: middle;\n",
       "    }\n",
       "\n",
       "    .dataframe tbody tr th {\n",
       "        vertical-align: top;\n",
       "    }\n",
       "\n",
       "    .dataframe thead th {\n",
       "        text-align: right;\n",
       "    }\n",
       "</style>\n",
       "<table border=\"1\" class=\"dataframe\">\n",
       "  <thead>\n",
       "    <tr style=\"text-align: right;\">\n",
       "      <th></th>\n",
       "      <th>Radio</th>\n",
       "      <th>Newspaper</th>\n",
       "    </tr>\n",
       "  </thead>\n",
       "  <tbody>\n",
       "    <tr>\n",
       "      <th>0</th>\n",
       "      <td>37.8</td>\n",
       "      <td>69.2</td>\n",
       "    </tr>\n",
       "    <tr>\n",
       "      <th>1</th>\n",
       "      <td>39.3</td>\n",
       "      <td>45.1</td>\n",
       "    </tr>\n",
       "    <tr>\n",
       "      <th>2</th>\n",
       "      <td>45.9</td>\n",
       "      <td>69.3</td>\n",
       "    </tr>\n",
       "    <tr>\n",
       "      <th>3</th>\n",
       "      <td>41.3</td>\n",
       "      <td>58.5</td>\n",
       "    </tr>\n",
       "    <tr>\n",
       "      <th>4</th>\n",
       "      <td>10.8</td>\n",
       "      <td>58.4</td>\n",
       "    </tr>\n",
       "  </tbody>\n",
       "</table>\n",
       "</div>"
      ],
      "text/plain": [
       "   Radio  Newspaper\n",
       "0   37.8       69.2\n",
       "1   39.3       45.1\n",
       "2   45.9       69.3\n",
       "3   41.3       58.5\n",
       "4   10.8       58.4"
      ]
     },
     "execution_count": 48,
     "metadata": {},
     "output_type": "execute_result"
    }
   ],
   "source": [
    "x_new=x.drop(columns=[\"TV\"])\n",
    "x_new.head()"
   ]
  },
  {
   "cell_type": "code",
   "execution_count": 49,
   "id": "5b114a8e-5bda-4889-a0b5-6c4b109a51d6",
   "metadata": {},
   "outputs": [
    {
     "data": {
      "text/plain": [
       "(0.15289217841466884, -0.08223020885630894)"
      ]
     },
     "execution_count": 49,
     "metadata": {},
     "output_type": "execute_result"
    }
   ],
   "source": [
    "x_train, x_test, y_train, y_test = train_test_split( x_new, y, test_size=0.33, random_state=42)\n",
    "lr.fit(x_train,y_train)\n",
    "lr.score(x_train,y_train),lr.score(x_test,y_test)"
   ]
  },
  {
   "cell_type": "code",
   "execution_count": null,
   "id": "b702a705-0c5d-4fd7-bd2c-ffe06b604c1c",
   "metadata": {},
   "outputs": [],
   "source": []
  },
  {
   "cell_type": "markdown",
   "id": "1cd227ab",
   "metadata": {},
   "source": []
  },
  {
   "cell_type": "code",
   "execution_count": null,
   "id": "ee22cb4c",
   "metadata": {},
   "outputs": [],
   "source": []
  }
 ],
 "metadata": {
  "kernelspec": {
   "display_name": "Python [conda env:base] *",
   "language": "python",
   "name": "conda-base-py"
  },
  "language_info": {
   "codemirror_mode": {
    "name": "ipython",
    "version": 3
   },
   "file_extension": ".py",
   "mimetype": "text/x-python",
   "name": "python",
   "nbconvert_exporter": "python",
   "pygments_lexer": "ipython3",
   "version": "3.13.5"
  }
 },
 "nbformat": 4,
 "nbformat_minor": 5
}
